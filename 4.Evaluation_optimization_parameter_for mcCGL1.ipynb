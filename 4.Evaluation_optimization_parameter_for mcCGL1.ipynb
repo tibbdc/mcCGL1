{
 "cells": [
  {
   "cell_type": "markdown",
   "metadata": {},
   "source": [
    "# Get Concretemodel Need Data"
   ]
  },
  {
   "cell_type": "code",
   "execution_count": 1,
   "metadata": {},
   "outputs": [],
   "source": [
    "import pandas as pd\n",
    "import cobra\n",
    "import sys\n",
    "sys.path.append(r'./script')\n",
    "from ETGEMs_function import *\n",
    "\n",
    "model_file='./data/iCW773_retgems.json'\n",
    "model_name = model_file.split('/')[-1].split('_irr')[0]\n",
    "reaction_g0_file = \"./analysis/g0_compare/reaction_g0_combine.csv\"\n",
    "metabolites_lnC_file = './data/metabolites_lnC_cg1.txt'\n",
    "reaction_kcat_MW_combine = \"./analysis/kcat_compare/combine_kcat_mw.csv\"\n",
    "reaction_kcat_MW_autopacmen = \"./analysis/kcat_compare/autopacmen_kcat_mw.csv\"\n",
    "reaction_kcat_MW_dlkcat = \"./analysis/kcat_compare/dlkcat_kcat_mw.csv\"\n",
    "reaction_kcat_MW_turnup = \"./analysis/kcat_compare/turnup_kcat_mw.csv\"\n",
    "reaction_kcat_MW_unikp = \"./analysis/kcat_compare/unikp_kcat_mw.csv\"\n",
    "\n",
    "\n",
    "Concretemodel_Need_Data_combine = Get_Concretemodel_Need_Data(reaction_g0_file,metabolites_lnC_file,model_file,reaction_kcat_MW_combine)\n",
    "Concretemodel_Need_Data_autopacmen = Get_Concretemodel_Need_Data(reaction_g0_file,metabolites_lnC_file,model_file,reaction_kcat_MW_autopacmen)\n",
    "Concretemodel_Need_Data_dlkcat = Get_Concretemodel_Need_Data(reaction_g0_file,metabolites_lnC_file,model_file,reaction_kcat_MW_dlkcat)\n",
    "Concretemodel_Need_Data_turnup = Get_Concretemodel_Need_Data(reaction_g0_file,metabolites_lnC_file,model_file,reaction_kcat_MW_turnup)\n",
    "Concretemodel_Need_Data_unikp = Get_Concretemodel_Need_Data(reaction_g0_file,metabolites_lnC_file,model_file,reaction_kcat_MW_unikp)"
   ]
  },
  {
   "cell_type": "markdown",
   "metadata": {},
   "source": [
    "# Get ETGEM"
   ]
  },
  {
   "cell_type": "code",
   "execution_count": 2,
   "metadata": {},
   "outputs": [],
   "source": [
    "import pandas as pd\n",
    "import numpy as np\n",
    "\n",
    "Biomass_list=pd.DataFrame()\n",
    "obj_name='CG_biomass_cgl_ATCC13032'#CG_biomass_cgl_ATCC13032\n",
    "obj_target='maximize'\n",
    "E_total=0.129 #eaual to e_pool （0.228）* saturation（0.5）0.227\n",
    "substrate_name='EX_glc_e_reverse'\n",
    "substrate_value = 4.67\n",
    "K_value=2765\n",
    "B_value=0\n",
    "\n",
    "etm_combine = EcoETM(Concretemodel_Need_Data_combine,obj_name,obj_target,substrate_name,substrate_value,E_total,K_value,B_value)\n",
    "etm_autopacmen = EcoETM(Concretemodel_Need_Data_autopacmen,obj_name,obj_target,substrate_name,substrate_value,E_total,K_value,B_value)\n",
    "etm_dlkcat = EcoETM(Concretemodel_Need_Data_dlkcat,obj_name,obj_target,substrate_name,substrate_value,E_total,K_value,B_value)\n",
    "etm_turnup = EcoETM(Concretemodel_Need_Data_turnup,obj_name,obj_target,substrate_name,substrate_value,E_total,K_value,B_value)\n",
    "etm_unikp = EcoETM(Concretemodel_Need_Data_unikp,obj_name,obj_target,substrate_name,substrate_value,E_total,K_value,B_value)"
   ]
  },
  {
   "cell_type": "markdown",
   "metadata": {},
   "source": [
    "# Model solve"
   ]
  },
  {
   "cell_type": "code",
   "execution_count": 3,
   "metadata": {},
   "outputs": [
    {
     "name": "stdout",
     "output_type": "stream",
     "text": [
      "combine  :  0.08668398388858364\n",
      "autopacmen  :  0.08753413498569641\n",
      "dlkcat  :  0.21505413336913817\n",
      "turnup  :  0.5113059002070838\n",
      "unikp  :  0.2518424761752578\n"
     ]
    }
   ],
   "source": [
    "opt_combine = Model_Solve(etm_combine, \"cplex_direct\")\n",
    "opt_autopacmen = Model_Solve(etm_autopacmen, \"cplex_direct\")\n",
    "opt_dlkcat = Model_Solve(etm_dlkcat, \"cplex_direct\")\n",
    "opt_turnup = Model_Solve(etm_turnup, \"cplex_direct\")\n",
    "opt_unikp = Model_Solve(etm_unikp, \"cplex_direct\")\n",
    "\n",
    "print(\"combine\", \" : \", opt_combine.obj())\n",
    "print(\"autopacmen\", \" : \", opt_autopacmen.obj())\n",
    "print(\"dlkcat\", \" : \", opt_dlkcat.obj())\n",
    "print(\"turnup\", \" : \", opt_turnup.obj())\n",
    "print(\"unikp\", \" : \", opt_unikp.obj())"
   ]
  },
  {
   "cell_type": "markdown",
   "metadata": {},
   "source": [
    "# Parameter optimization"
   ]
  },
  {
   "cell_type": "code",
   "execution_count": 4,
   "metadata": {},
   "outputs": [],
   "source": [
    "import sys\n",
    "sys.path.append(r'./script')\n",
    "from ETGEMs_function import *\n",
    "# from ECMpy_function import *\n",
    "\n",
    "obj_name='CG_biomass_cgl_ATCC13032'#CG_biomass_cgl_ATCC13032\n",
    "obj_target='maximize'\n",
    "E_total=0.129 #eaual to e_pool （0.228）* saturation（0.5）0.227\n",
    "substrate_name='EX_glc_e_reverse'\n",
    "substrate_value = 4.67\n",
    "K_value=2765\n",
    "B_value=0\n",
    "expected_value = 0.46\n",
    "rounds_num = 50\n",
    "kcat_max_json = \"./data/EC_kcat_max.json\""
   ]
  },
  {
   "cell_type": "code",
   "execution_count": 5,
   "metadata": {},
   "outputs": [
    {
     "name": "stdout",
     "output_type": "stream",
     "text": [
      "------ Start checking enzyme parameters ------\n",
      "ASAD_reverse  kcat ->  330.0\n",
      "rounds: 1\n",
      "changed_reaction_list: ['ASAD_reverse']\n",
      "solution: 0.13174591271330957\n",
      "-------------------------------------------\n",
      "PPNDH  kcat ->  1932.0\n",
      "rounds: 2\n",
      "changed_reaction_list: ['ASAD_reverse', 'PPNDH']\n",
      "solution: 0.19437617380187597\n",
      "-------------------------------------------\n",
      "ASPK  kcat ->  245.0\n",
      "rounds: 3\n",
      "changed_reaction_list: ['ASAD_reverse', 'PPNDH', 'ASPK']\n",
      "solution: 0.28442410373614185\n",
      "-------------------------------------------\n",
      "GHMT2r  kcat ->  999.0\n",
      "rounds: 4\n",
      "changed_reaction_list: ['ASAD_reverse', 'PPNDH', 'ASPK', 'GHMT2r']\n",
      "solution: 0.4549897654550754\n",
      "-------------------------------------------\n",
      "ATPS4rpp  kcat ->  390.0\n",
      "rounds: 5\n",
      "changed_reaction_list: ['ASAD_reverse', 'PPNDH', 'ASPK', 'GHMT2r', 'ATPS4rpp']\n",
      "solution: 0.5096777423489419\n",
      "-------------------------------------------\n"
     ]
    }
   ],
   "source": [
    "# 修正融合后的kcat\n",
    "optimize_enzyme_parameters(model_file, Concretemodel_Need_Data_combine, obj_name,obj_target,substrate_name,substrate_value,E_total,K_value,B_value, expected_value, rounds_num, kcat_max_json)"
   ]
  },
  {
   "cell_type": "code",
   "execution_count": 6,
   "metadata": {},
   "outputs": [
    {
     "name": "stdout",
     "output_type": "stream",
     "text": [
      "------ Start checking enzyme parameters ------\n",
      "ASAD_reverse  kcat ->  330.0\n",
      "rounds: 1\n",
      "changed_reaction_list: ['ASAD_reverse']\n",
      "solution: 0.13372147839327475\n",
      "-------------------------------------------\n",
      "PPNDH  kcat ->  1932.0\n",
      "rounds: 2\n",
      "changed_reaction_list: ['ASAD_reverse', 'PPNDH']\n",
      "solution: 0.19870358824272472\n",
      "-------------------------------------------\n",
      "ASPK  kcat ->  245.0\n",
      "rounds: 3\n",
      "changed_reaction_list: ['ASAD_reverse', 'PPNDH', 'ASPK']\n",
      "solution: 0.2934331918204766\n",
      "-------------------------------------------\n",
      "GHMT2r  kcat ->  999.0\n",
      "rounds: 4\n",
      "changed_reaction_list: ['ASAD_reverse', 'PPNDH', 'ASPK', 'GHMT2r']\n",
      "solution: 0.4707957707065973\n",
      "-------------------------------------------\n"
     ]
    }
   ],
   "source": [
    "# Modify the kcat of autoPACMEN.\n",
    "\n",
    "optimize_enzyme_parameters(model_file, Concretemodel_Need_Data_autopacmen, obj_name,obj_target,substrate_name,substrate_value,E_total,K_value,B_value, expected_value, rounds_num, kcat_max_json)"
   ]
  },
  {
   "cell_type": "code",
   "execution_count": 7,
   "metadata": {},
   "outputs": [
    {
     "name": "stdout",
     "output_type": "stream",
     "text": [
      "------ Start checking enzyme parameters ------\n",
      "HSDy_reverse  kcat ->  70.1\n",
      "rounds: 1\n",
      "changed_reaction_list: ['HSDy_reverse']\n",
      "solution: 0.2835649834303266\n",
      "-------------------------------------------\n",
      "IPPS  kcat ->  450.0\n",
      "rounds: 2\n",
      "changed_reaction_list: ['HSDy_reverse', 'IPPS']\n",
      "solution: 0.35329413520144126\n",
      "-------------------------------------------\n",
      "ASAD_reverse  kcat ->  330.0\n",
      "rounds: 3\n",
      "changed_reaction_list: ['HSDy_reverse', 'IPPS', 'ASAD_reverse']\n",
      "solution: 0.4299412909997791\n",
      "-------------------------------------------\n",
      "ICDHyr  kcat ->  999.0\n",
      "rounds: 4\n",
      "changed_reaction_list: ['HSDy_reverse', 'IPPS', 'ASAD_reverse', 'ICDHyr']\n",
      "solution: 0.51923332250071\n",
      "-------------------------------------------\n"
     ]
    }
   ],
   "source": [
    "# Modify the kcat of DLKcat.\n",
    "\n",
    "optimize_enzyme_parameters(model_file, Concretemodel_Need_Data_dlkcat, obj_name,obj_target,substrate_name,substrate_value,E_total,K_value,B_value, expected_value, rounds_num, kcat_max_json)"
   ]
  },
  {
   "cell_type": "code",
   "execution_count": 8,
   "metadata": {},
   "outputs": [
    {
     "name": "stdout",
     "output_type": "stream",
     "text": [
      "------ Start checking enzyme parameters ------\n"
     ]
    }
   ],
   "source": [
    "# Modify the kcat of TurNup.\n",
    "\n",
    "optimize_enzyme_parameters(model_file, Concretemodel_Need_Data_turnup, obj_name,obj_target,substrate_name,substrate_value,E_total,K_value,B_value, expected_value, rounds_num, kcat_max_json)"
   ]
  },
  {
   "cell_type": "code",
   "execution_count": 9,
   "metadata": {},
   "outputs": [
    {
     "name": "stdout",
     "output_type": "stream",
     "text": [
      "------ Start checking enzyme parameters ------\n",
      "GAPD_num1  kcat ->  999.0\n",
      "rounds: 1\n",
      "changed_reaction_list: ['GAPD_num1']\n",
      "solution: 0.29349696856034585\n",
      "-------------------------------------------\n",
      "G6PDH2r  kcat ->  8000.0\n",
      "rounds: 2\n",
      "changed_reaction_list: ['GAPD_num1', 'G6PDH2r']\n",
      "solution: 0.33911484760405575\n",
      "-------------------------------------------\n",
      "GLUSy  kcat ->  41.9\n",
      "rounds: 3\n",
      "changed_reaction_list: ['GAPD_num1', 'G6PDH2r', 'GLUSy']\n",
      "solution: 0.35764856308603504\n",
      "-------------------------------------------\n",
      "GND  kcat ->  325.0\n",
      "rounds: 4\n",
      "changed_reaction_list: ['GAPD_num1', 'G6PDH2r', 'GLUSy', 'GND']\n",
      "solution: 0.37981122877266393\n",
      "-------------------------------------------\n",
      "TKT2  kcat ->  999.0\n",
      "rounds: 5\n",
      "changed_reaction_list: ['GAPD_num1', 'G6PDH2r', 'GLUSy', 'GND', 'TKT2']\n",
      "solution: 0.39177529514951903\n",
      "-------------------------------------------\n",
      "AKGDH  kcat ->  999.0\n",
      "rounds: 6\n",
      "changed_reaction_list: ['GAPD_num1', 'G6PDH2r', 'GLUSy', 'GND', 'TKT2', 'AKGDH']\n",
      "solution: 0.4018874174292236\n",
      "-------------------------------------------\n",
      "FUM  kcat ->  1150.0\n",
      "rounds: 7\n",
      "changed_reaction_list: ['GAPD_num1', 'G6PDH2r', 'GLUSy', 'GND', 'TKT2', 'AKGDH', 'FUM']\n",
      "solution: 0.41853522859422404\n",
      "-------------------------------------------\n",
      "ACKr  kcat ->  3600.0\n",
      "rounds: 8\n",
      "changed_reaction_list: ['GAPD_num1', 'G6PDH2r', 'GLUSy', 'GND', 'TKT2', 'AKGDH', 'FUM', 'ACKr']\n",
      "solution: 0.4272083790872031\n",
      "-------------------------------------------\n",
      "POX  kcat ->  883.0\n",
      "rounds: 9\n",
      "changed_reaction_list: ['GAPD_num1', 'G6PDH2r', 'GLUSy', 'GND', 'TKT2', 'AKGDH', 'FUM', 'ACKr', 'POX']\n",
      "solution: 0.4342589973346348\n",
      "-------------------------------------------\n",
      "SUCOAS  kcat ->  999.0\n",
      "rounds: 10\n",
      "changed_reaction_list: ['GAPD_num1', 'G6PDH2r', 'GLUSy', 'GND', 'TKT2', 'AKGDH', 'FUM', 'ACKr', 'POX', 'SUCOAS']\n",
      "solution: 0.4788851419220684\n",
      "-------------------------------------------\n"
     ]
    }
   ],
   "source": [
    "# Modify the kcat of UniKP.\n",
    "\n",
    "optimize_enzyme_parameters(model_file, Concretemodel_Need_Data_unikp, obj_name,obj_target,substrate_name,substrate_value,E_total,K_value,B_value, expected_value, rounds_num, kcat_max_json)"
   ]
  },
  {
   "cell_type": "code",
   "execution_count": 10,
   "metadata": {},
   "outputs": [],
   "source": [
    "Concretemodel_Need_Data_combine[\"reaction_kcat_MW\"].to_csv(\"./analysis/kcat_compare/combine_kcat_mw_correct.csv\")\n",
    "Concretemodel_Need_Data_autopacmen[\"reaction_kcat_MW\"].to_csv(\"./analysis/kcat_compare/autopacmen_kcat_mw_correct.csv\")\n",
    "Concretemodel_Need_Data_dlkcat[\"reaction_kcat_MW\"].to_csv(\"./analysis/kcat_compare/dlkcat_kcat_mw_correct.csv\")\n",
    "Concretemodel_Need_Data_turnup[\"reaction_kcat_MW\"].to_csv(\"./analysis/kcat_compare/turnup_kcat_mw_correct.csv\")\n",
    "Concretemodel_Need_Data_unikp[\"reaction_kcat_MW\"].to_csv(\"./analysis/kcat_compare/unikp_kcat_mw_correct.csv\")"
   ]
  },
  {
   "cell_type": "markdown",
   "metadata": {},
   "source": [
    "# Comparison of C13 flux data"
   ]
  },
  {
   "cell_type": "code",
   "execution_count": 11,
   "metadata": {},
   "outputs": [],
   "source": [
    "# In Silico Genome-Scale Reconstruction and Validation of the Corynebacterium glutamicum Metabolic Network\n",
    "C13_flux = {}\n",
    "C13_flux[\"GLCptspp\"] = 1.0\n",
    "C13_flux[\"PGI\"] = 0.108\n",
    "C13_flux[\"G6PDH2r\"] = 0.885\n",
    "C13_flux[\"PGL\"] = 0.885\n",
    "C13_flux[\"GND\"] = 0.885\n",
    "C13_flux[\"TKT1\"] = 0.291\n",
    "C13_flux[\"TALA\"] = 0.270\n",
    "C13_flux[\"TKT2\"] = 0.291\n",
    "C13_flux[\"PFK\"] = 0.662\n",
    "C13_flux[\"TPI\"] = 0.662\n",
    "C13_flux[\"GAPD_num1\"] = 1.534\n",
    "C13_flux[\"PGK\"] = 1.534\n",
    "C13_flux[\"PGM_num1\"] = 1.534\n",
    "C13_flux[\"ENO\"] = 1.534\n",
    "C13_flux[\"PPC\"] = 0.203\n",
    "C13_flux[\"PDH\"] = 1.088\n",
    "C13_flux[\"CS_num1\"] = 0.75\n",
    "C13_flux[\"ACONTa\"] = 0.75\n",
    "C13_flux[\"ACONTb\"] = 0.75\n",
    "C13_flux[\"ICDHyr\"] = 0.75\n",
    "C13_flux[\"AKGDH\"] = 0.655\n",
    "C13_flux[\"SUCOAS\"] = 0.655\n",
    "C13_flux[\"SUCDi\"] = 0.655\n",
    "C13_flux[\"FUM\"] = 0.655\n",
    "C13_flux[\"MDH\"] = 0.655"
   ]
  },
  {
   "cell_type": "code",
   "execution_count": 12,
   "metadata": {},
   "outputs": [],
   "source": [
    "c13_df = pd.DataFrame(list(C13_flux.items()), columns=['reaction', 'experiment'])\n",
    "c13_df = c13_df.set_index(\"reaction\")"
   ]
  },
  {
   "cell_type": "code",
   "execution_count": 13,
   "metadata": {},
   "outputs": [],
   "source": [
    "reaction_kcat_MW_combine = \"./analysis/kcat_compare/combine_kcat_mw_correct.csv\"\n",
    "reaction_kcat_MW_autopacmen = \"./analysis/kcat_compare/autopacmen_kcat_mw_correct.csv\"\n",
    "reaction_kcat_MW_dlkcat = \"./analysis/kcat_compare/dlkcat_kcat_mw_correct.csv\"\n",
    "reaction_kcat_MW_turnup = \"./analysis/kcat_compare/turnup_kcat_mw_correct.csv\"\n",
    "reaction_kcat_MW_unikp = \"./analysis/kcat_compare/unikp_kcat_mw_correct.csv\"\n",
    "\n",
    "Concretemodel_Need_Data_combine = Get_Concretemodel_Need_Data(reaction_g0_file,metabolites_lnC_file,model_file,reaction_kcat_MW_combine)\n",
    "Concretemodel_Need_Data_autopacmen = Get_Concretemodel_Need_Data(reaction_g0_file,metabolites_lnC_file,model_file,reaction_kcat_MW_autopacmen)\n",
    "Concretemodel_Need_Data_dlkcat = Get_Concretemodel_Need_Data(reaction_g0_file,metabolites_lnC_file,model_file,reaction_kcat_MW_dlkcat)\n",
    "Concretemodel_Need_Data_turnup = Get_Concretemodel_Need_Data(reaction_g0_file,metabolites_lnC_file,model_file,reaction_kcat_MW_turnup)\n",
    "Concretemodel_Need_Data_unikp = Get_Concretemodel_Need_Data(reaction_g0_file,metabolites_lnC_file,model_file,reaction_kcat_MW_unikp)\n",
    "\n",
    "etm_combine = EcoETM(Concretemodel_Need_Data_combine,obj_name,obj_target,substrate_name,substrate_value,E_total,K_value,B_value)\n",
    "etm_autopacmen = EcoETM(Concretemodel_Need_Data_autopacmen,obj_name,obj_target,substrate_name,substrate_value,E_total,K_value,B_value)\n",
    "etm_dlkcat = EcoETM(Concretemodel_Need_Data_dlkcat,obj_name,obj_target,substrate_name,substrate_value,E_total,K_value,B_value)\n",
    "etm_turnup = EcoETM(Concretemodel_Need_Data_turnup,obj_name,obj_target,substrate_name,substrate_value,E_total,K_value,B_value)\n",
    "etm_unikp = EcoETM(Concretemodel_Need_Data_unikp,obj_name,obj_target,substrate_name,substrate_value,E_total,K_value,B_value)\n",
    "opt_combine = Model_Solve(etm_combine, \"cplex_direct\")\n",
    "opt_autopacmen = Model_Solve(etm_autopacmen, \"cplex_direct\")\n",
    "opt_dlkcat = Model_Solve(etm_dlkcat, \"cplex_direct\")\n",
    "opt_turnup = Model_Solve(etm_turnup, \"cplex_direct\")\n",
    "opt_unikp = Model_Solve(etm_unikp, \"cplex_direct\")"
   ]
  },
  {
   "cell_type": "code",
   "execution_count": 14,
   "metadata": {},
   "outputs": [
    {
     "data": {
      "text/html": [
       "<div>\n",
       "<style scoped>\n",
       "    .dataframe tbody tr th:only-of-type {\n",
       "        vertical-align: middle;\n",
       "    }\n",
       "\n",
       "    .dataframe tbody tr th {\n",
       "        vertical-align: top;\n",
       "    }\n",
       "\n",
       "    .dataframe thead th {\n",
       "        text-align: right;\n",
       "    }\n",
       "</style>\n",
       "<table border=\"1\" class=\"dataframe\">\n",
       "  <thead>\n",
       "    <tr style=\"text-align: right;\">\n",
       "      <th></th>\n",
       "      <th>experiment</th>\n",
       "      <th>Combine</th>\n",
       "      <th>AutoPACMEN</th>\n",
       "      <th>DLKcat</th>\n",
       "      <th>TurNuP</th>\n",
       "      <th>UniKP</th>\n",
       "      <th>iCW773</th>\n",
       "    </tr>\n",
       "    <tr>\n",
       "      <th>reaction</th>\n",
       "      <th></th>\n",
       "      <th></th>\n",
       "      <th></th>\n",
       "      <th></th>\n",
       "      <th></th>\n",
       "      <th></th>\n",
       "      <th></th>\n",
       "    </tr>\n",
       "  </thead>\n",
       "  <tbody>\n",
       "    <tr>\n",
       "      <th>GLCptspp</th>\n",
       "      <td>1.000</td>\n",
       "      <td>1.000000</td>\n",
       "      <td>0.995188</td>\n",
       "      <td>0.994693</td>\n",
       "      <td>0.994774</td>\n",
       "      <td>0.995105</td>\n",
       "      <td>0.994412</td>\n",
       "    </tr>\n",
       "    <tr>\n",
       "      <th>PGI</th>\n",
       "      <td>0.108</td>\n",
       "      <td>0.463898</td>\n",
       "      <td>0.712370</td>\n",
       "      <td>0.983117</td>\n",
       "      <td>0.000000</td>\n",
       "      <td>0.779402</td>\n",
       "      <td>0.804609</td>\n",
       "    </tr>\n",
       "    <tr>\n",
       "      <th>G6PDH2r</th>\n",
       "      <td>0.885</td>\n",
       "      <td>0.518791</td>\n",
       "      <td>0.272322</td>\n",
       "      <td>0.000000</td>\n",
       "      <td>2.256212</td>\n",
       "      <td>0.205027</td>\n",
       "      <td>0.177615</td>\n",
       "    </tr>\n",
       "    <tr>\n",
       "      <th>PGL</th>\n",
       "      <td>0.885</td>\n",
       "      <td>0.518791</td>\n",
       "      <td>0.272322</td>\n",
       "      <td>0.000000</td>\n",
       "      <td>2.256212</td>\n",
       "      <td>0.205027</td>\n",
       "      <td>0.177615</td>\n",
       "    </tr>\n",
       "    <tr>\n",
       "      <th>GND</th>\n",
       "      <td>0.885</td>\n",
       "      <td>0.518791</td>\n",
       "      <td>0.272322</td>\n",
       "      <td>0.000000</td>\n",
       "      <td>2.256212</td>\n",
       "      <td>0.205027</td>\n",
       "      <td>0.177615</td>\n",
       "    </tr>\n",
       "  </tbody>\n",
       "</table>\n",
       "</div>"
      ],
      "text/plain": [
       "          experiment   Combine  AutoPACMEN    DLKcat    TurNuP     UniKP  \\\n",
       "reaction                                                                   \n",
       "GLCptspp       1.000  1.000000    0.995188  0.994693  0.994774  0.995105   \n",
       "PGI            0.108  0.463898    0.712370  0.983117  0.000000  0.779402   \n",
       "G6PDH2r        0.885  0.518791    0.272322  0.000000  2.256212  0.205027   \n",
       "PGL            0.885  0.518791    0.272322  0.000000  2.256212  0.205027   \n",
       "GND            0.885  0.518791    0.272322  0.000000  2.256212  0.205027   \n",
       "\n",
       "            iCW773  \n",
       "reaction            \n",
       "GLCptspp  0.994412  \n",
       "PGI       0.804609  \n",
       "G6PDH2r   0.177615  \n",
       "PGL       0.177615  \n",
       "GND       0.177615  "
      ]
     },
     "execution_count": 14,
     "metadata": {},
     "output_type": "execute_result"
    }
   ],
   "source": [
    "methods = [\"Combine\", \"AutoPACMEN\", \"DLKcat\", \"TurNuP\", \"UniKP\"]\n",
    "opt_dict = {\n",
    "    \"Combine\": opt_combine,\n",
    "    \"AutoPACMEN\": opt_autopacmen,\n",
    "    \"DLKcat\": opt_dlkcat,\n",
    "    \"TurNuP\": opt_turnup,\n",
    "    \"UniKP\": opt_unikp,\n",
    "}\n",
    "model = cobra.io.load_json_model(\"./data/iCW773_retgems.json\")\n",
    "solution = model.optimize()\n",
    "for index,row in c13_df.iterrows():\n",
    "    for method in methods:\n",
    "        opt_result = opt_dict[method]\n",
    "        if \"_num\" in index:\n",
    "            reaction_flux_result = 0\n",
    "            for reaction in model.reactions:\n",
    "                if index[:-1] in reaction.id:\n",
    "                    reaction_flux_result += opt_result.reaction[reaction.id].value\n",
    "        else:\n",
    "            reaction_flux_result = opt_result.reaction[index].value\n",
    "        c13_df.loc[index, method] = reaction_flux_result/opt_result.reaction[\"EX_glc_e_reverse\"].value\n",
    "    c13_df.loc[index, \"iCW773\"] = solution.fluxes[index]/solution.fluxes[\"EX_glc_e_reverse\"]\n",
    "\n",
    "c13_df.to_csv(\"./analysis/C13_compare_central.csv\")\n",
    "c13_df.head()"
   ]
  },
  {
   "cell_type": "code",
   "execution_count": 15,
   "metadata": {},
   "outputs": [
    {
     "data": {
      "text/html": [
       "<div>\n",
       "<style scoped>\n",
       "    .dataframe tbody tr th:only-of-type {\n",
       "        vertical-align: middle;\n",
       "    }\n",
       "\n",
       "    .dataframe tbody tr th {\n",
       "        vertical-align: top;\n",
       "    }\n",
       "\n",
       "    .dataframe thead th {\n",
       "        text-align: right;\n",
       "    }\n",
       "</style>\n",
       "<table border=\"1\" class=\"dataframe\">\n",
       "  <thead>\n",
       "    <tr style=\"text-align: right;\">\n",
       "      <th></th>\n",
       "      <th>experiment</th>\n",
       "      <th>Combine</th>\n",
       "      <th>AutoPACMEN</th>\n",
       "      <th>DLKcat</th>\n",
       "      <th>TurNuP</th>\n",
       "      <th>UniKP</th>\n",
       "      <th>iCW773</th>\n",
       "    </tr>\n",
       "    <tr>\n",
       "      <th>reaction</th>\n",
       "      <th></th>\n",
       "      <th></th>\n",
       "      <th></th>\n",
       "      <th></th>\n",
       "      <th></th>\n",
       "      <th></th>\n",
       "      <th></th>\n",
       "    </tr>\n",
       "  </thead>\n",
       "  <tbody>\n",
       "    <tr>\n",
       "      <th>GLCptspp</th>\n",
       "      <td>1.000</td>\n",
       "      <td>0.000000</td>\n",
       "      <td>0.004812</td>\n",
       "      <td>0.005307</td>\n",
       "      <td>0.005226</td>\n",
       "      <td>0.004895</td>\n",
       "      <td>0.005588</td>\n",
       "    </tr>\n",
       "    <tr>\n",
       "      <th>PGI</th>\n",
       "      <td>0.108</td>\n",
       "      <td>3.295356</td>\n",
       "      <td>5.596023</td>\n",
       "      <td>8.102935</td>\n",
       "      <td>1.000000</td>\n",
       "      <td>6.216687</td>\n",
       "      <td>6.450086</td>\n",
       "    </tr>\n",
       "    <tr>\n",
       "      <th>G6PDH2r</th>\n",
       "      <td>0.885</td>\n",
       "      <td>0.413795</td>\n",
       "      <td>0.692292</td>\n",
       "      <td>1.000000</td>\n",
       "      <td>1.549392</td>\n",
       "      <td>0.768331</td>\n",
       "      <td>0.799305</td>\n",
       "    </tr>\n",
       "    <tr>\n",
       "      <th>PGL</th>\n",
       "      <td>0.885</td>\n",
       "      <td>0.413795</td>\n",
       "      <td>0.692292</td>\n",
       "      <td>1.000000</td>\n",
       "      <td>1.549392</td>\n",
       "      <td>0.768331</td>\n",
       "      <td>0.799305</td>\n",
       "    </tr>\n",
       "    <tr>\n",
       "      <th>GND</th>\n",
       "      <td>0.885</td>\n",
       "      <td>0.413795</td>\n",
       "      <td>0.692292</td>\n",
       "      <td>1.000000</td>\n",
       "      <td>1.549392</td>\n",
       "      <td>0.768331</td>\n",
       "      <td>0.799305</td>\n",
       "    </tr>\n",
       "  </tbody>\n",
       "</table>\n",
       "</div>"
      ],
      "text/plain": [
       "          experiment   Combine  AutoPACMEN    DLKcat    TurNuP     UniKP  \\\n",
       "reaction                                                                   \n",
       "GLCptspp       1.000  0.000000    0.004812  0.005307  0.005226  0.004895   \n",
       "PGI            0.108  3.295356    5.596023  8.102935  1.000000  6.216687   \n",
       "G6PDH2r        0.885  0.413795    0.692292  1.000000  1.549392  0.768331   \n",
       "PGL            0.885  0.413795    0.692292  1.000000  1.549392  0.768331   \n",
       "GND            0.885  0.413795    0.692292  1.000000  1.549392  0.768331   \n",
       "\n",
       "            iCW773  \n",
       "reaction            \n",
       "GLCptspp  0.005588  \n",
       "PGI       6.450086  \n",
       "G6PDH2r   0.799305  \n",
       "PGL       0.799305  \n",
       "GND       0.799305  "
      ]
     },
     "execution_count": 15,
     "metadata": {},
     "output_type": "execute_result"
    }
   ],
   "source": [
    "c13_diff = c13_df.copy()\n",
    "for index, row in c13_diff.iterrows():\n",
    "    c13_diff.loc[index, \"Combine\"] = abs(row[\"Combine\"] - row[\"experiment\"])/row[\"experiment\"]\n",
    "    c13_diff.loc[index, \"AutoPACMEN\"] = abs(row[\"AutoPACMEN\"] - row[\"experiment\"])/row[\"experiment\"]\n",
    "    c13_diff.loc[index, \"DLKcat\"] = abs(row[\"DLKcat\"] - row[\"experiment\"])/row[\"experiment\"]\n",
    "    c13_diff.loc[index, \"TurNuP\"] = abs(row[\"TurNuP\"] - row[\"experiment\"])/row[\"experiment\"]\n",
    "    c13_diff.loc[index, \"UniKP\"] = abs(row[\"UniKP\"] - row[\"experiment\"])/row[\"experiment\"]\n",
    "    c13_diff.loc[index, \"iCW773\"] = abs(row[\"iCW773\"] - row[\"experiment\"])/row[\"experiment\"]\n",
    "\n",
    "c13_diff.head()"
   ]
  },
  {
   "cell_type": "code",
   "execution_count": 16,
   "metadata": {},
   "outputs": [
    {
     "data": {
      "image/png": "[encoded data removed]",
      "text/plain": [
       "<Figure size 600x600 with 1 Axes>"
      ]
     },
     "metadata": {},
     "output_type": "display_data"
    }
   ],
   "source": [
    "import matplotlib.pyplot as plt\n",
    "import seaborn as sns\n",
    "#plt.rcParams['font.family'] = 'Times New Roman'\n",
    "plt.rcParams['font.size'] = 18\n",
    "y_lab_len = len(c13_diff.columns)-1\n",
    "\n",
    "c13_diff = c13_diff.apply(pd.to_numeric, errors='coerce')\n",
    "\n",
    "plt.figure(figsize=(6,y_lab_len))\n",
    "sns.boxplot(data=c13_diff.drop(c13_diff.columns[0], axis=1), orient=\"h\", palette=\"Set2\", showfliers=False)\n",
    "plt.title(\"Boxplot of normalized flux error\")\n",
    "plt.xlabel(\"Normalized flux error\")\n",
    "plt.savefig(\"./analysis/figure/all_source_boxplot_kcat_del_fill.png\", dpi=300, bbox_inches='tight')\n",
    "plt.show()"
   ]
  },
  {
   "cell_type": "code",
   "execution_count": 17,
   "metadata": {},
   "outputs": [
    {
     "name": "stdout",
     "output_type": "stream",
     "text": [
      "Pearson correlation coefficient of 'Combine': 0.9192460208270321\n",
      "Pearson correlation coefficient of 'AutoPACMEN': 0.8403997274680461\n",
      "Pearson correlation coefficient of 'DLKcat': 0.7371174373906626\n",
      "Pearson correlation coefficient of 'TurNuP': 0.18193494307808594\n",
      "Pearson correlation coefficient of 'UniKP': 0.6788753154105438\n",
      "Pearson correlation coefficient of 'iCW773': 0.23191897503246073\n"
     ]
    }
   ],
   "source": [
    "# Pearson\n",
    "import numpy as np\n",
    "from scipy.stats import pearsonr\n",
    "\n",
    "correlations = {}\n",
    "for column in c13_df.columns:\n",
    "    if column != 'experiment':\n",
    "        correlation, _ = pearsonr(c13_df['experiment'], c13_df[column])\n",
    "        correlations[column] = correlation\n",
    "for column, correlation in correlations.items():\n",
    "    print(f\"Pearson correlation coefficient of '{column}': {correlation}\")"
   ]
  },
  {
   "cell_type": "code",
   "execution_count": 18,
   "metadata": {},
   "outputs": [
    {
     "data": {
      "image/png": "[encoded data removed]",
      "text/plain": [
       "<Figure size 1200x600 with 1 Axes>"
      ]
     },
     "metadata": {},
     "output_type": "display_data"
    }
   ],
   "source": [
    "correlation_matrix = c13_df.corr()\n",
    "\n",
    "columns_to_plot = ['experiment','Combine','AutoPACMEN','DLKcat','TurNuP','UniKP','iCW773']\n",
    "\n",
    "correlation_with_baseline = c13_df[columns_to_plot].corr()['experiment']\n",
    "\n",
    "correlation_list = correlation_with_baseline.drop('experiment').tolist()\n",
    "\n",
    "plt.figure(figsize=(12, 6))\n",
    "correlation_with_baseline.drop('experiment').plot(kind='bar', color='skyblue')\n",
    "plt.title(\"Pearson Correlation with experiment\")\n",
    "plt.ylabel(\"Pearson Correlation Coefficient\")\n",
    "#plt.xlabel(\"Columns\")\n",
    "plt.xticks(rotation=75)\n",
    "plt.savefig(\"./analysis/figure/correlation_with_experiment_13C_value.png\", dpi=300, bbox_inches='tight')\n",
    "plt.show()"
   ]
  }
 ],
 "metadata": {
  "kernelspec": {
   "display_name": "autoETGEMs",
   "language": "python",
   "name": "python3"
  },
  "language_info": {
   "codemirror_mode": {
    "name": "ipython",
    "version": 3
   },
   "file_extension": ".py",
   "mimetype": "text/x-python",
   "name": "python",
   "nbconvert_exporter": "python",
   "pygments_lexer": "ipython3",
   "version": "3.8.16"
  }
 },
 "nbformat": 4,
 "nbformat_minor": 2
}
