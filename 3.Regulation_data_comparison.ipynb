{
 "cells": [
  {
   "cell_type": "markdown",
   "metadata": {},
   "source": [
    "# CorynegNet"
   ]
  },
  {
   "cell_type": "code",
   "execution_count": 1,
   "metadata": {},
   "outputs": [
    {
     "data": {
      "text/html": [
       "<div>\n",
       "<style scoped>\n",
       "    .dataframe tbody tr th:only-of-type {\n",
       "        vertical-align: middle;\n",
       "    }\n",
       "\n",
       "    .dataframe tbody tr th {\n",
       "        vertical-align: top;\n",
       "    }\n",
       "\n",
       "    .dataframe thead th {\n",
       "        text-align: right;\n",
       "    }\n",
       "</style>\n",
       "<table border=\"1\" class=\"dataframe\">\n",
       "  <thead>\n",
       "    <tr style=\"text-align: right;\">\n",
       "      <th></th>\n",
       "      <th>target</th>\n",
       "      <th>sign</th>\n",
       "      <th>data_type</th>\n",
       "    </tr>\n",
       "    <tr>\n",
       "      <th>regulator</th>\n",
       "      <th></th>\n",
       "      <th></th>\n",
       "      <th></th>\n",
       "    </tr>\n",
       "  </thead>\n",
       "  <tbody>\n",
       "    <tr>\n",
       "      <th>Cgl0010</th>\n",
       "      <td>Cgl1011</td>\n",
       "      <td>1</td>\n",
       "      <td>CoryNeRegNet</td>\n",
       "    </tr>\n",
       "    <tr>\n",
       "      <th>Cgl0010</th>\n",
       "      <td>Cgl1015</td>\n",
       "      <td>1</td>\n",
       "      <td>CoryNeRegNet</td>\n",
       "    </tr>\n",
       "    <tr>\n",
       "      <th>Cgl0010</th>\n",
       "      <td>Cgl1017</td>\n",
       "      <td>1</td>\n",
       "      <td>CoryNeRegNet</td>\n",
       "    </tr>\n",
       "    <tr>\n",
       "      <th>Cgl0010</th>\n",
       "      <td>Cgl1222</td>\n",
       "      <td>1</td>\n",
       "      <td>CoryNeRegNet</td>\n",
       "    </tr>\n",
       "    <tr>\n",
       "      <th>Cgl0010</th>\n",
       "      <td>Cgl1223</td>\n",
       "      <td>1</td>\n",
       "      <td>CoryNeRegNet</td>\n",
       "    </tr>\n",
       "  </tbody>\n",
       "</table>\n",
       "</div>"
      ],
      "text/plain": [
       "            target  sign     data_type\n",
       "regulator                             \n",
       "Cgl0010    Cgl1011     1  CoryNeRegNet\n",
       "Cgl0010    Cgl1015     1  CoryNeRegNet\n",
       "Cgl0010    Cgl1017     1  CoryNeRegNet\n",
       "Cgl0010    Cgl1222     1  CoryNeRegNet\n",
       "Cgl0010    Cgl1223     1  CoryNeRegNet"
      ]
     },
     "execution_count": 1,
     "metadata": {},
     "output_type": "execute_result"
    }
   ],
   "source": [
    "import pandas as pd\n",
    "\n",
    "coryneregnet_trn = pd.read_csv(\"./data/regulation/trn_coryneregnet.csv\",index_col=0)\n",
    "coryneregnet_trn.head()"
   ]
  },
  {
   "cell_type": "markdown",
   "metadata": {},
   "source": [
    "# Regprecise"
   ]
  },
  {
   "cell_type": "code",
   "execution_count": 2,
   "metadata": {},
   "outputs": [
    {
     "data": {
      "text/html": [
       "<div>\n",
       "<style scoped>\n",
       "    .dataframe tbody tr th:only-of-type {\n",
       "        vertical-align: middle;\n",
       "    }\n",
       "\n",
       "    .dataframe tbody tr th {\n",
       "        vertical-align: top;\n",
       "    }\n",
       "\n",
       "    .dataframe thead th {\n",
       "        text-align: right;\n",
       "    }\n",
       "</style>\n",
       "<table border=\"1\" class=\"dataframe\">\n",
       "  <thead>\n",
       "    <tr style=\"text-align: right;\">\n",
       "      <th></th>\n",
       "      <th>target</th>\n",
       "      <th>sign</th>\n",
       "      <th>data_type</th>\n",
       "    </tr>\n",
       "    <tr>\n",
       "      <th>regulator</th>\n",
       "      <th></th>\n",
       "      <th></th>\n",
       "      <th></th>\n",
       "    </tr>\n",
       "  </thead>\n",
       "  <tbody>\n",
       "    <tr>\n",
       "      <th>Cgl1541</th>\n",
       "      <td>Cgl1540</td>\n",
       "      <td>-1</td>\n",
       "      <td>RegPrecise</td>\n",
       "    </tr>\n",
       "    <tr>\n",
       "      <th>Cgl0863</th>\n",
       "      <td>Cgl0075</td>\n",
       "      <td>-1</td>\n",
       "      <td>RegPrecise</td>\n",
       "    </tr>\n",
       "    <tr>\n",
       "      <th>Cgl0863</th>\n",
       "      <td>Cgl0076</td>\n",
       "      <td>-1</td>\n",
       "      <td>RegPrecise</td>\n",
       "    </tr>\n",
       "    <tr>\n",
       "      <th>Cgl0863</th>\n",
       "      <td>Cgl0084</td>\n",
       "      <td>-1</td>\n",
       "      <td>RegPrecise</td>\n",
       "    </tr>\n",
       "    <tr>\n",
       "      <th>Cgl0863</th>\n",
       "      <td>Cgl0183</td>\n",
       "      <td>-1</td>\n",
       "      <td>RegPrecise</td>\n",
       "    </tr>\n",
       "  </tbody>\n",
       "</table>\n",
       "</div>"
      ],
      "text/plain": [
       "            target  sign   data_type\n",
       "regulator                           \n",
       "Cgl1541    Cgl1540    -1  RegPrecise\n",
       "Cgl0863    Cgl0075    -1  RegPrecise\n",
       "Cgl0863    Cgl0076    -1  RegPrecise\n",
       "Cgl0863    Cgl0084    -1  RegPrecise\n",
       "Cgl0863    Cgl0183    -1  RegPrecise"
      ]
     },
     "execution_count": 2,
     "metadata": {},
     "output_type": "execute_result"
    }
   ],
   "source": [
    "import pandas as pd\n",
    "\n",
    "trn_regprecise = pd.read_csv(\"./data/regulation/trn_regprecise.csv\",index_col=0)\n",
    "trn_regprecise.head()"
   ]
  },
  {
   "cell_type": "markdown",
   "metadata": {},
   "source": [
    "# iModulon"
   ]
  },
  {
   "cell_type": "code",
   "execution_count": 3,
   "metadata": {},
   "outputs": [
    {
     "data": {
      "text/html": [
       "<div>\n",
       "<style scoped>\n",
       "    .dataframe tbody tr th:only-of-type {\n",
       "        vertical-align: middle;\n",
       "    }\n",
       "\n",
       "    .dataframe tbody tr th {\n",
       "        vertical-align: top;\n",
       "    }\n",
       "\n",
       "    .dataframe thead th {\n",
       "        text-align: right;\n",
       "    }\n",
       "</style>\n",
       "<table border=\"1\" class=\"dataframe\">\n",
       "  <thead>\n",
       "    <tr style=\"text-align: right;\">\n",
       "      <th></th>\n",
       "      <th>target</th>\n",
       "      <th>sign</th>\n",
       "      <th>data_type</th>\n",
       "    </tr>\n",
       "    <tr>\n",
       "      <th>regulator</th>\n",
       "      <th></th>\n",
       "      <th></th>\n",
       "      <th></th>\n",
       "    </tr>\n",
       "  </thead>\n",
       "  <tbody>\n",
       "    <tr>\n",
       "      <th>Cgl2612</th>\n",
       "      <td>Cgl0060</td>\n",
       "      <td>-1</td>\n",
       "      <td>iModulon</td>\n",
       "    </tr>\n",
       "    <tr>\n",
       "      <th>Cgl2612</th>\n",
       "      <td>Cgl0061</td>\n",
       "      <td>-1</td>\n",
       "      <td>iModulon</td>\n",
       "    </tr>\n",
       "    <tr>\n",
       "      <th>Cgl2612</th>\n",
       "      <td>Cgl0062</td>\n",
       "      <td>-1</td>\n",
       "      <td>iModulon</td>\n",
       "    </tr>\n",
       "    <tr>\n",
       "      <th>Cgl0863</th>\n",
       "      <td>Cgl0078</td>\n",
       "      <td>-1</td>\n",
       "      <td>iModulon</td>\n",
       "    </tr>\n",
       "    <tr>\n",
       "      <th>Cgl0863</th>\n",
       "      <td>Cgl0091</td>\n",
       "      <td>-1</td>\n",
       "      <td>iModulon</td>\n",
       "    </tr>\n",
       "  </tbody>\n",
       "</table>\n",
       "</div>"
      ],
      "text/plain": [
       "            target  sign data_type\n",
       "regulator                         \n",
       "Cgl2612    Cgl0060    -1  iModulon\n",
       "Cgl2612    Cgl0061    -1  iModulon\n",
       "Cgl2612    Cgl0062    -1  iModulon\n",
       "Cgl0863    Cgl0078    -1  iModulon\n",
       "Cgl0863    Cgl0091    -1  iModulon"
      ]
     },
     "execution_count": 3,
     "metadata": {},
     "output_type": "execute_result"
    }
   ],
   "source": [
    "trn_iModulon = pd.read_csv(\"./data/regulation/trn_iModulon.csv\",index_col=0)\n",
    "trn_iModulon.head()"
   ]
  },
  {
   "cell_type": "markdown",
   "metadata": {},
   "source": [
    "# Data Comparison   "
   ]
  },
  {
   "cell_type": "code",
   "execution_count": 4,
   "metadata": {},
   "outputs": [],
   "source": [
    "trn_df = coryneregnet_trn.copy()\n",
    "new_rows = pd.DataFrame(columns=trn_df.columns)\n",
    "trn_df[\"regulator\"] = trn_df.index\n",
    "trn_regprecise[\"regulator\"] = trn_regprecise.index\n",
    "for index, row in trn_regprecise.iterrows():\n",
    "    if not ((trn_df['regulator'] == row['regulator']) & (trn_df['target'] == row['target'])).any():\n",
    "        new_rows = pd.concat([new_rows, pd.DataFrame([row], columns=trn_df.columns)])\n",
    "new_rows = new_rows[trn_df.columns]\n",
    "trn_df = pd.concat([trn_df, new_rows], ignore_index=True)\n",
    "trn_df = trn_df.set_index(\"regulator\")\n",
    "\n",
    "new_rows = pd.DataFrame(columns=trn_df.columns)\n",
    "trn_df[\"regulator\"] = trn_df.index\n",
    "trn_iModulon[\"regulator\"] = trn_iModulon.index\n",
    "for index, row in trn_iModulon.iterrows():\n",
    "    if not ((trn_df['regulator'] == row['regulator']) & (trn_df['target'] == row['target'])).any():\n",
    "        new_rows = pd.concat([new_rows, pd.DataFrame([row], columns=trn_df.columns)])\n",
    "\n",
    "new_rows = new_rows[trn_df.columns]\n",
    "trn_df = pd.concat([trn_df, new_rows], ignore_index=True)\n",
    "trn_df = trn_df.set_index(\"regulator\")\n",
    "\n",
    "trn_df.to_csv(\"./analysis/regulation/trn_combine_final.csv\")"
   ]
  },
  {
   "cell_type": "code",
   "execution_count": 5,
   "metadata": {},
   "outputs": [
    {
     "data": {
      "image/png": "[encoded data removed]",
      "text/plain": [
       "<Figure size 800x600 with 1 Axes>"
      ]
     },
     "metadata": {},
     "output_type": "display_data"
    }
   ],
   "source": [
    "import matplotlib.pyplot as plt\n",
    "#plt.rcParams['font.family'] = 'Times New Roman'\n",
    "plt.rcParams['font.size'] = 18\n",
    "light_blue = '#99ccff'\n",
    "data_type_counts = trn_df['data_type'].value_counts()\n",
    "plt.figure(figsize=(8, 6))\n",
    "plt.pie(data_type_counts, labels=data_type_counts.index, autopct='%1.1f%%', colors=['gold', 'grey', light_blue])\n",
    "plt.title('')\n",
    "plt.savefig(\"./analysis/figure/all_source_boxplot_trn.png\", dpi=300, bbox_inches='tight')\n",
    "\n",
    "plt.show()"
   ]
  }
 ],
 "metadata": {
  "kernelspec": {
   "display_name": "ECMpy2",
   "language": "python",
   "name": "python3"
  },
  "language_info": {
   "codemirror_mode": {
    "name": "ipython",
    "version": 3
   },
   "file_extension": ".py",
   "mimetype": "text/x-python",
   "name": "python",
   "nbconvert_exporter": "python",
   "pygments_lexer": "ipython3",
   "version": "3.7.16"
  }
 },
 "nbformat": 4,
 "nbformat_minor": 2
}
